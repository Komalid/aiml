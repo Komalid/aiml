{
 "cells": [
  {
   "cell_type": "code",
   "execution_count": null,
   "metadata": {},
   "outputs": [],
   "source": [
    "#importing neessary libraries\n",
    "import numpy as np\n",
    "import pandas as pd"
   ]
  },
  {
   "cell_type": "code",
   "execution_count": 2,
   "metadata": {},
   "outputs": [],
   "source": [
    "# declaring Data in two arrays\n",
    "countries = np.array(['Algeria','Angola','Argentina','Australia','Austria','Bahamas','Bangladesh','Belarus','Belgium','Bhutan','Brazil','Bulgaria','Cambodia','Cameroon','Chile','China','Colombia','Cyprus','Denmark','El Salvador','Estonia','Ethiopia','Fiji','Finland','France','Georgia','Ghana','Grenada','Guinea','Haiti','Honduras','Hungary','India','Indonesia','Ireland','Italy','Japan','Kenya', 'South Korea','Liberia','Malaysia','Mexico', 'Morocco','Nepal','New Zealand','Norway','Pakistan', 'Peru','Qatar','Russia','Singapore','South Africa','Spain','Sweden','Switzerland','Thailand', 'United Arab Emirates','United Kingdom','United States','Uruguay','Venezuela','Vietnam','Zimbabwe'])\n",
    "gdpofcountries = np.array([2255.225482,629.9553062,11601.63022,25306.82494,27266.40335,19466.99052,588.3691778,2890.345675,24733.62696,1445.760002,4803.398244,2618.876037,590.4521124,665.7982328,7122.938458,2639.54156,3362.4656,15378.16704,30860.12808,2579.115607,6525.541272,229.6769525,2242.689259,27570.4852,23016.84778,1334.646773,402.6953275,6047.200797,394.1156638,385.5793827,1414.072488,5745.981529,837.7464011,1206.991065,27715.52837,18937.24998,39578.07441,478.2194906,16684.21278,279.2204061,5345.213415,6288.25324,1908.304416,274.8728621,14646.42094,40034.85063,672.1547506,3359.517402,36152.66676,3054.727742,33529.83052,3825.093781,15428.32098,33630.24604,39170.41371,2699.123242,21058.43643,28272.40661,37691.02733,9581.05659,5671.912202,757.4009286,347.7456605])"
   ]
  },
  {
   "cell_type": "code",
   "execution_count": 3,
   "metadata": {},
   "outputs": [
    {
     "name": "stdout",
     "output_type": "stream",
     "text": [
      "country Name and max GDP: Norway 40034.85063\n"
     ]
    }
   ],
   "source": [
    "# finding and Prining Max GDP and COuntry\n",
    "country_max_GDP = countries[gdpofcountries.argmax()]\n",
    "print('country Name and max GDP:',format(country_max_GDP), format(gdpofcountries.max()))"
   ]
  },
  {
   "cell_type": "code",
   "execution_count": 4,
   "metadata": {},
   "outputs": [
    {
     "name": "stdout",
     "output_type": "stream",
     "text": [
      "country Name and min GDP: Ethiopia 229.6769525\n"
     ]
    }
   ],
   "source": [
    "# finding and Prining min GDP and COuntry\n",
    "\n",
    "country_min_GDP = countries[gdpofcountries.argmin()]\n",
    "print('country Name and min GDP:',format(country_min_GDP), format(gdpofcountries.min()))"
   ]
  },
  {
   "cell_type": "code",
   "execution_count": 5,
   "metadata": {},
   "outputs": [
    {
     "name": "stdout",
     "output_type": "stream",
     "text": [
      "Algeria\n",
      "Angola\n",
      "Argentina\n",
      "Australia\n",
      "Austria\n",
      "Bahamas\n",
      "Bangladesh\n",
      "Belarus\n",
      "Belgium\n",
      "Bhutan\n",
      "Brazil\n",
      "Bulgaria\n",
      "Cambodia\n",
      "Cameroon\n",
      "Chile\n",
      "China\n",
      "Colombia\n",
      "Cyprus\n",
      "Denmark\n",
      "El Salvador\n",
      "Estonia\n",
      "Ethiopia\n",
      "Fiji\n",
      "Finland\n",
      "France\n",
      "Georgia\n",
      "Ghana\n",
      "Grenada\n",
      "Guinea\n",
      "Haiti\n",
      "Honduras\n",
      "Hungary\n",
      "India\n",
      "Indonesia\n",
      "Ireland\n",
      "Italy\n",
      "Japan\n",
      "Kenya\n",
      "South Korea\n",
      "Liberia\n",
      "Malaysia\n",
      "Mexico\n",
      "Morocco\n",
      "Nepal\n",
      "New Zealand\n",
      "Norway\n",
      "Pakistan\n",
      "Peru\n",
      "Qatar\n",
      "Russia\n",
      "Singapore\n",
      "South Africa\n",
      "Spain\n",
      "Sweden\n",
      "Switzerland\n",
      "Thailand\n",
      "United Arab Emirates\n",
      "United Kingdom\n",
      "United States\n",
      "Uruguay\n",
      "Venezuela\n",
      "Vietnam\n",
      "Zimbabwe\n"
     ]
    }
   ],
   "source": [
    "# iterate through array and print countries\n",
    "for country in countries:\n",
    "    print(country)"
   ]
  },
  {
   "cell_type": "code",
   "execution_count": 6,
   "metadata": {},
   "outputs": [
    {
     "name": "stdout",
     "output_type": "stream",
     "text": [
      "2255.225482\n",
      "629.9553062\n",
      "11601.63022\n",
      "25306.82494\n",
      "27266.40335\n",
      "19466.99052\n",
      "588.3691778\n",
      "2890.345675\n",
      "24733.62696\n",
      "1445.760002\n",
      "4803.398244\n",
      "2618.876037\n",
      "590.4521124\n",
      "665.7982328\n",
      "7122.938458\n",
      "2639.54156\n",
      "3362.4656\n",
      "15378.16704\n",
      "30860.12808\n",
      "2579.115607\n",
      "6525.541272\n",
      "229.6769525\n",
      "2242.689259\n",
      "27570.4852\n",
      "23016.84778\n",
      "1334.646773\n",
      "402.6953275\n",
      "6047.200797\n",
      "394.1156638\n",
      "385.5793827\n",
      "1414.072488\n",
      "5745.981529\n",
      "837.7464011\n",
      "1206.991065\n",
      "27715.52837\n",
      "18937.24998\n",
      "39578.07441\n",
      "478.2194906\n",
      "16684.21278\n",
      "279.2204061\n",
      "5345.213415\n",
      "6288.25324\n",
      "1908.304416\n",
      "274.8728621\n",
      "14646.42094\n",
      "40034.85063\n",
      "672.1547506\n",
      "3359.517402\n",
      "36152.66676\n",
      "3054.727742\n",
      "33529.83052\n",
      "3825.093781\n",
      "15428.32098\n",
      "33630.24604\n",
      "39170.41371\n",
      "2699.123242\n",
      "21058.43643\n",
      "28272.40661\n",
      "37691.02733\n",
      "9581.05659\n",
      "5671.912202\n",
      "757.4009286\n",
      "347.7456605\n"
     ]
    }
   ],
   "source": [
    "# iterate through array and print gdps\n",
    "for gdp in gdpofcountries:\n",
    "    print(gdp)"
   ]
  },
  {
   "cell_type": "code",
   "execution_count": 7,
   "metadata": {},
   "outputs": [
    {
     "name": "stdout",
     "output_type": "stream",
     "text": [
      "country name and its GDP: Algeria 2255.225482\n",
      "country name and its GDP: Angola 629.9553062\n",
      "country name and its GDP: Argentina 11601.63022\n",
      "country name and its GDP: Australia 25306.82494\n",
      "country name and its GDP: Austria 27266.40335\n",
      "country name and its GDP: Bahamas 19466.99052\n",
      "country name and its GDP: Bangladesh 588.3691778\n",
      "country name and its GDP: Belarus 2890.345675\n",
      "country name and its GDP: Belgium 24733.62696\n",
      "country name and its GDP: Bhutan 1445.760002\n",
      "country name and its GDP: Brazil 4803.398244\n",
      "country name and its GDP: Bulgaria 2618.876037\n",
      "country name and its GDP: Cambodia 590.4521124\n",
      "country name and its GDP: Cameroon 665.7982328\n",
      "country name and its GDP: Chile 7122.938458\n",
      "country name and its GDP: China 2639.54156\n",
      "country name and its GDP: Colombia 3362.4656\n",
      "country name and its GDP: Cyprus 15378.16704\n",
      "country name and its GDP: Denmark 30860.12808\n",
      "country name and its GDP: El Salvador 2579.115607\n",
      "country name and its GDP: Estonia 6525.541272\n",
      "country name and its GDP: Ethiopia 229.6769525\n",
      "country name and its GDP: Fiji 2242.689259\n",
      "country name and its GDP: Finland 27570.4852\n",
      "country name and its GDP: France 23016.84778\n",
      "country name and its GDP: Georgia 1334.646773\n",
      "country name and its GDP: Ghana 402.6953275\n",
      "country name and its GDP: Grenada 6047.200797\n",
      "country name and its GDP: Guinea 394.1156638\n",
      "country name and its GDP: Haiti 385.5793827\n",
      "country name and its GDP: Honduras 1414.072488\n",
      "country name and its GDP: Hungary 5745.981529\n",
      "country name and its GDP: India 837.7464011\n",
      "country name and its GDP: Indonesia 1206.991065\n",
      "country name and its GDP: Ireland 27715.52837\n",
      "country name and its GDP: Italy 18937.24998\n",
      "country name and its GDP: Japan 39578.07441\n",
      "country name and its GDP: Kenya 478.2194906\n",
      "country name and its GDP: South Korea 16684.21278\n",
      "country name and its GDP: Liberia 279.2204061\n",
      "country name and its GDP: Malaysia 5345.213415\n",
      "country name and its GDP: Mexico 6288.25324\n",
      "country name and its GDP: Morocco 1908.304416\n",
      "country name and its GDP: Nepal 274.8728621\n",
      "country name and its GDP: New Zealand 14646.42094\n",
      "country name and its GDP: Norway 40034.85063\n",
      "country name and its GDP: Pakistan 672.1547506\n",
      "country name and its GDP: Peru 3359.517402\n",
      "country name and its GDP: Qatar 36152.66676\n",
      "country name and its GDP: Russia 3054.727742\n",
      "country name and its GDP: Singapore 33529.83052\n",
      "country name and its GDP: South Africa 3825.093781\n",
      "country name and its GDP: Spain 15428.32098\n",
      "country name and its GDP: Sweden 33630.24604\n",
      "country name and its GDP: Switzerland 39170.41371\n",
      "country name and its GDP: Thailand 2699.123242\n",
      "country name and its GDP: United Arab Emirates 21058.43643\n",
      "country name and its GDP: United Kingdom 28272.40661\n",
      "country name and its GDP: United States 37691.02733\n",
      "country name and its GDP: Uruguay 9581.05659\n",
      "country name and its GDP: Venezuela 5671.912202\n",
      "country name and its GDP: Vietnam 757.4009286\n",
      "country name and its GDP: Zimbabwe 347.7456605\n"
     ]
    }
   ],
   "source": [
    "# iterate through array and print countries and its gdp\n",
    "for i in range(len(countries)):\n",
    "    print('country name and its GDP:', countries[i], gdpofcountries[i])"
   ]
  },
  {
   "cell_type": "code",
   "execution_count": 8,
   "metadata": {},
   "outputs": [
    {
     "name": "stdout",
     "output_type": "stream",
     "text": [
      "Highest GDP Value:  40034.85063\n"
     ]
    }
   ],
   "source": [
    "# print highest GDP\n",
    "print('Highest GDP Value: ', gdpofcountries.max())"
   ]
  },
  {
   "cell_type": "code",
   "execution_count": 9,
   "metadata": {},
   "outputs": [
    {
     "name": "stdout",
     "output_type": "stream",
     "text": [
      "Lowest GDP Value:  229.6769525\n"
     ]
    }
   ],
   "source": [
    "# print lowest GDP\n",
    "print('Lowest GDP Value: ', gdpofcountries.min())"
   ]
  },
  {
   "cell_type": "code",
   "execution_count": 10,
   "metadata": {},
   "outputs": [
    {
     "name": "stdout",
     "output_type": "stream",
     "text": [
      "Mean GDP Value:  11289.409271639683\n"
     ]
    }
   ],
   "source": [
    "# print mean GDP\n",
    "print('Mean GDP Value: ', gdpofcountries.mean())"
   ]
  },
  {
   "cell_type": "code",
   "execution_count": 13,
   "metadata": {},
   "outputs": [
    {
     "name": "stdout",
     "output_type": "stream",
     "text": [
      "standard deviation GDP Value:  12743.828910617945\n"
     ]
    }
   ],
   "source": [
    "\n",
    "print('standard deviation GDP Value: ', gdpofcountries.std())"
   ]
  },
  {
   "cell_type": "code",
   "execution_count": 14,
   "metadata": {},
   "outputs": [
    {
     "name": "stdout",
     "output_type": "stream",
     "text": [
      "sum of all the GDPs:  711232.7841133\n"
     ]
    }
   ],
   "source": [
    "print('sum of all the GDPs: ', gdpofcountries.sum())"
   ]
  },
  {
   "cell_type": "code",
   "execution_count": null,
   "metadata": {},
   "outputs": [],
   "source": []
  }
 ],
 "metadata": {
  "kernelspec": {
   "display_name": "Python 3",
   "language": "python",
   "name": "python3"
  },
  "language_info": {
   "codemirror_mode": {
    "name": "ipython",
    "version": 3
   },
   "file_extension": ".py",
   "mimetype": "text/x-python",
   "name": "python",
   "nbconvert_exporter": "python",
   "pygments_lexer": "ipython3",
   "version": "3.8.5"
  }
 },
 "nbformat": 4,
 "nbformat_minor": 4
}
