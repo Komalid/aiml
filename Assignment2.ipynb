{
 "cells": [
  {
   "cell_type": "code",
   "execution_count": 5,
   "metadata": {},
   "outputs": [],
   "source": [
    "#importing numpy libraries\n",
    "import numpy as np"
   ]
  },
  {
   "cell_type": "code",
   "execution_count": 6,
   "metadata": {},
   "outputs": [],
   "source": [
    "#reading all data into array\n",
    "countries =np.array([\"Great Britain\",\"China\",\"Russia\",\"United States\",\"Korea\",\"Japan\",\"Germany\"])\n",
    "country_codes=np.array([\"GBR\",\"CHN\",\"RUS\",\"US\",\"KOR\",\"JPN\",\"GER\"])\n",
    "years = np.array([2012, 2012, 2012, 2012, 2012, 2012, 2012])\n",
    "medal_tally_gold = np.array([29, 38, 24, 46, 13, 7, 11])\n",
    "medal_tally_silver = np.array([17, 28, 25, 28, 8, 14, 11])\n",
    "medal_tally_bronze = np.array([19, 22, 32, 29, 7, 17, 14])"
   ]
  },
  {
   "cell_type": "code",
   "execution_count": 9,
   "metadata": {},
   "outputs": [
    {
     "name": "stdout",
     "output_type": "stream",
     "text": [
      "Country won max gold medals United States\n"
     ]
    }
   ],
   "source": [
    "#print the name of the country that won maximum gold medals,\n",
    "\n",
    "print(\"Country won max gold medals \" + countries[medal_tally_gold.argmax()])"
   ]
  },
  {
   "cell_type": "code",
   "execution_count": 10,
   "metadata": {},
   "outputs": [
    {
     "name": "stdout",
     "output_type": "stream",
     "text": [
      "Country which won more than 20 gold medals : Great Britain\n",
      "Country which won more than 20 gold medals : China\n",
      "Country which won more than 20 gold medals : Russia\n",
      "Country which won more than 20 gold medals : United States\n"
     ]
    }
   ],
   "source": [
    "#print the countries who won more than 20 gold medals\n",
    "for i in range(len(medal_tally_gold)):\n",
    "    if(medal_tally_gold[i] > 20):\n",
    "        print(\"Country which won more than 20 gold medals :\",  countries[i])    "
   ]
  },
  {
   "cell_type": "code",
   "execution_count": 11,
   "metadata": {},
   "outputs": [
    {
     "name": "stdout",
     "output_type": "stream",
     "text": [
      "Medal Tally:\n",
      "Gold medal:  29\n",
      "silver medal:  17\n",
      "Bronze medal:  19\n",
      "Gold medal:  38\n",
      "silver medal:  28\n",
      "Bronze medal:  22\n",
      "Gold medal:  24\n",
      "silver medal:  25\n",
      "Bronze medal:  32\n",
      "Gold medal:  46\n",
      "silver medal:  28\n",
      "Bronze medal:  29\n",
      "Gold medal:  13\n",
      "silver medal:  8\n",
      "Bronze medal:  7\n",
      "Gold medal:  7\n",
      "silver medal:  14\n",
      "Bronze medal:  17\n",
      "Gold medal:  11\n",
      "silver medal:  11\n",
      "Bronze medal:  14\n"
     ]
    }
   ],
   "source": [
    "#Print the medal tally,\n",
    "print(\"Medal Tally:\")\n",
    "for i in range(len(countries)):\n",
    "    print(\"Gold medal: \",medal_tally_gold[i])\n",
    "    print(\"silver medal: \",medal_tally_silver[i])\n",
    "    print(\"Bronze medal: \",medal_tally_bronze[i])    "
   ]
  },
  {
   "cell_type": "code",
   "execution_count": 14,
   "metadata": {},
   "outputs": [
    {
     "name": "stdout",
     "output_type": "stream",
     "text": [
      "Country Name and No of Gold Medal:  Great Britain 29\n",
      "Country Name and No of Gold Medal:  China 38\n",
      "Country Name and No of Gold Medal:  Russia 24\n",
      "Country Name and No of Gold Medal:  United States 46\n",
      "Country Name and No of Gold Medal:  Korea 13\n",
      "Country Name and No of Gold Medal:  Japan 7\n",
      "Country Name and No of Gold Medal:  Germany 11\n"
     ]
    }
   ],
   "source": [
    "#Print country name with the corresponding number of gold medals\n",
    "for i in range(len(countries)):\n",
    "    print(\"Country Name and No of Gold Medal: \", countries[i], medal_tally_gold[i])\n"
   ]
  },
  {
   "cell_type": "code",
   "execution_count": 18,
   "metadata": {},
   "outputs": [
    {
     "name": "stdout",
     "output_type": "stream",
     "text": [
      "Country and Sum of medals:  Great Britain 65\n",
      "Country and Sum of medals:  China 88\n",
      "Country and Sum of medals:  Russia 81\n",
      "Country and Sum of medals:  United States 103\n",
      "Country and Sum of medals:  Korea 28\n",
      "Country and Sum of medals:  Japan 38\n",
      "Country and Sum of medals:  Germany 36\n"
     ]
    }
   ],
   "source": [
    "#country's name with the total number of medals won\n",
    "for i in range(len(countries)):\n",
    "    print(\"Country and Sum of medals: \",countries[i], medal_tally_gold[i]+medal_tally_silver[i]+medal_tally_bronze[i])"
   ]
  },
  {
   "cell_type": "code",
   "execution_count": null,
   "metadata": {},
   "outputs": [],
   "source": []
  }
 ],
 "metadata": {
  "kernelspec": {
   "display_name": "Python 3",
   "language": "python",
   "name": "python3"
  },
  "language_info": {
   "codemirror_mode": {
    "name": "ipython",
    "version": 3
   },
   "file_extension": ".py",
   "mimetype": "text/x-python",
   "name": "python",
   "nbconvert_exporter": "python",
   "pygments_lexer": "ipython3",
   "version": "3.8.5"
  }
 },
 "nbformat": 4,
 "nbformat_minor": 4
}
